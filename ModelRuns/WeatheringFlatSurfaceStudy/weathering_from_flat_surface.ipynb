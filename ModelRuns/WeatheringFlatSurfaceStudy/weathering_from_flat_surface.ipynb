{
 "cells": [
  {
   "cell_type": "markdown",
   "metadata": {},
   "source": [
    "# Cellular model of weathering starting from a flat surface\n",
    "\n",
    "This notebook runs the Grain Hill model with an initially flat surface and \"walls\" on either boundary, to explore what happens when you have weathering without any net erosion or deposition.\n",
    "\n",
    "Start with some imports..."
   ]
  },
  {
   "cell_type": "code",
   "execution_count": 1,
   "metadata": {
    "collapsed": true
   },
   "outputs": [],
   "source": [
    "import numpy as np\n",
    "import matplotlib.pyplot as plt\n",
    "%matplotlib inline"
   ]
  },
  {
   "cell_type": "markdown",
   "metadata": {},
   "source": [
    "Next, set up model parameters in a dictionary:"
   ]
  },
  {
   "cell_type": "code",
   "execution_count": 2,
   "metadata": {
    "collapsed": true
   },
   "outputs": [],
   "source": [
    "# Dictionary for parameters\n",
    "params = {}\n",
    "\n",
    "num_cols = 401\n",
    "params['number_of_node_columns'] = num_cols\n",
    "num_rows = 41\n",
    "params['number_of_node_rows'] = num_rows\n",
    "params['disturbance_rate'] = 0.01\n",
    "params['uplift_interval'] = 1.0e10\n",
    "params['weathering_rate'] = 0.01\n",
    "params['run_duration'] = 4000.0\n",
    "params['show_plots'] = False\n",
    "params['plot_interval'] = 40.0\n",
    "params['output_interval'] = 1.1 * params['run_duration']\n",
    "params['report_interval'] = 20.0\n",
    "params['settling_rate'] = 220000000.0\n",
    "params['friction_coef'] = 1.0\n",
    "params['rock_state_for_uplift'] = 8\n",
    "params['opt_rock_collapse'] = 1.0\n",
    "params['plot_every_transition'] = False"
   ]
  },
  {
   "cell_type": "markdown",
   "metadata": {},
   "source": [
    "To set up the starting grid, we'll use the admittedly clunky trick of creating a Landlab hex grid simply for the sake of knowing the $(x,y)$ coordinates of the nodes in the grid we will *actually* use in the Grain Hill model. We do it this way because we need to have the node-state values already defined when we create the Grain Hill model instance. The setup here has the grid half full of rock cells, with high walls of rock on the left and right boundaries."
   ]
  },
  {
   "cell_type": "code",
   "execution_count": 13,
   "metadata": {
    "collapsed": true
   },
   "outputs": [],
   "source": [
    "from landlab import HexModelGrid\n",
    "\n",
    "grid = HexModelGrid(num_rows, num_cols, orientation='vert', shape='rect')\n",
    "ns = np.zeros(grid.number_of_nodes, dtype=int)\n",
    "bottom_half = np.where(grid.y_of_node < 0.5 * num_rows)[0]\n",
    "ns[bottom_half] = 8\n",
    "left_edge = np.where(grid.x_of_node == 0.0)[0]\n",
    "ns[left_edge] = 8\n",
    "right_edge = np.where(grid.x_of_node > 0.866 * num_cols - 1.0)[0]\n",
    "ns[right_edge] = 8\n",
    "\n",
    "# Keep a copy of the original node state grid for reuse\n",
    "ns_original = ns.copy()\n",
    "params['initial_state_grid'] = ns_original"
   ]
  },
  {
   "cell_type": "markdown",
   "metadata": {},
   "source": [
    "Plot the initial condition"
   ]
  },
  {
   "cell_type": "code",
   "execution_count": 4,
   "metadata": {},
   "outputs": [
    {
     "data": {
      "text/plain": [
       "(-17.955593371797363,\n",
       " 364.36575488557281,\n",
       " -2.5749999999999997,\n",
       " 43.074999999999996)"
      ]
     },
     "execution_count": 4,
     "metadata": {},
     "output_type": "execute_result"
    },
    {
     "data": {
      "image/png": "[encoded data removed]",
      "text/plain": [
       "<matplotlib.figure.Figure at 0x110d85390>"
      ]
     },
     "metadata": {},
     "output_type": "display_data"
    }
   ],
   "source": [
    "ax = grid.hexplot(ns)\n",
    "plt.axis('equal')\n",
    "plt.axis('off')"
   ]
  },
  {
   "cell_type": "markdown",
   "metadata": {},
   "source": [
    "Because we'll want to run the model several times, using different disturbance rates, we'll create a function to do so. It takes *params* as an argument, and through this dict we can set our desired disturbance and weathering rates."
   ]
  },
  {
   "cell_type": "code",
   "execution_count": 5,
   "metadata": {
    "collapsed": true
   },
   "outputs": [],
   "source": [
    "def run_flat_surface_weathering(params, niter):\n",
    "    \"\"\"Run weathering and disturbance starting with a flat surface.\"\"\"\n",
    "    import grain_hill_as_class\n",
    "\n",
    "    # instantiate a GrainHill model\n",
    "    num_rows = params['number_of_node_rows']\n",
    "    num_cols = params['number_of_node_columns']\n",
    "    grain_hill = grain_hill_as_class.GrainHill((num_rows, num_cols), **params)\n",
    "    \n",
    "    dt = params['run_duration'] / float(niter)\n",
    "\n",
    "    soil_thickness = np.zeros(niter + 1)\n",
    "    \n",
    "    for i in range(niter):\n",
    "        \n",
    "        grain_hill.run_for(dt)\n",
    "\n",
    "        # compute and write the results\n",
    "        (elev_profile, soil) = grain_hill.get_profile_and_soil_thickness(grain_hill.grid, \n",
    "                                                                 grain_hill.ca.node_state)\n",
    "        #plot_hill(grain_hill.ca.grid)\n",
    "        soil_thickness[i+1] = np.mean(soil)\n",
    "\n",
    "    return np.arange(0.0, dt * niter + 2, dt), soil_thickness"
   ]
  },
  {
   "cell_type": "markdown",
   "metadata": {},
   "source": [
    "Now let's give it a try, initially with zero disturbance rate:"
   ]
  },
  {
   "cell_type": "code",
   "execution_count": 6,
   "metadata": {},
   "outputs": [],
   "source": [
    "params['disturbance_rate'] = 0.0\n",
    "(t, H0) = run_flat_surface_weathering(params, 1000)"
   ]
  },
  {
   "cell_type": "code",
   "execution_count": 7,
   "metadata": {},
   "outputs": [
    {
     "data": {
      "text/plain": [
       "[<matplotlib.lines.Line2D at 0x120773210>]"
      ]
     },
     "execution_count": 7,
     "metadata": {},
     "output_type": "execute_result"
    },
    {
     "data": {
      "image/png": "[encoded data removed]",
      "text/plain": [
       "<matplotlib.figure.Figure at 0x120e0d910>"
      ]
     },
     "metadata": {},
     "output_type": "display_data"
    }
   ],
   "source": [
    "plt.plot(t, H0)"
   ]
  },
  {
   "cell_type": "markdown",
   "metadata": {
    "collapsed": true
   },
   "source": [
    "Now, we'll do a set of experimental runs in which the ratio of disturbance to weathering rate ranges 0.1, 1.0, 10.0 (this takes a few minutes to run)."
   ]
  },
  {
   "cell_type": "code",
   "execution_count": 8,
   "metadata": {},
   "outputs": [],
   "source": [
    "params['disturbance_rate'] = 0.001\n",
    "(t, H0p001) = run_flat_surface_weathering(params, 1000)\n",
    "params['disturbance_rate'] = 0.01\n",
    "(t, H0p01) = run_flat_surface_weathering(params, 1000)\n",
    "params['disturbance_rate'] = 0.1\n",
    "(t, H0p1) = run_flat_surface_weathering(params, 1000)"
   ]
  },
  {
   "cell_type": "code",
   "execution_count": 10,
   "metadata": {},
   "outputs": [
    {
     "data": {
      "text/plain": [
       "<matplotlib.text.Text at 0x1229033d0>"
      ]
     },
     "execution_count": 10,
     "metadata": {},
     "output_type": "execute_result"
    },
    {
     "data": {
      "image/png": "[encoded data removed]",
      "text/plain": [
       "<matplotlib.figure.Figure at 0x12288e290>"
      ]
     },
     "metadata": {},
     "output_type": "display_data"
    }
   ],
   "source": [
    "w = 0.01\n",
    "plt.plot(t * w, H0)\n",
    "plt.plot(t * w, H0p001)\n",
    "plt.plot(t * w, H0p01)\n",
    "plt.plot(t * w, H0p1)\n",
    "plt.xlabel('Dimensionless time (tw)')\n",
    "plt.ylabel('Dimensionless soil thickness (H / \\delta)')\n",
    "#plt.legend('d/w = 0', 'd/w = 0.1', 'd/w = 1', 'd/w = 10')"
   ]
  },
  {
   "cell_type": "code",
   "execution_count": 11,
   "metadata": {},
   "outputs": [
    {
     "data": {
      "text/plain": [
       "[<matplotlib.lines.Line2D at 0x122a96d10>]"
      ]
     },
     "execution_count": 11,
     "metadata": {},
     "output_type": "execute_result"
    },
    {
     "data": {
      "image/png": "[encoded data removed]",
      "text/plain": [
       "<matplotlib.figure.Figure at 0x1228bcd10>"
      ]
     },
     "metadata": {},
     "output_type": "display_data"
    }
   ],
   "source": [
    "plt.plot(H0p001)"
   ]
  },
  {
   "cell_type": "code",
   "execution_count": null,
   "metadata": {
    "collapsed": true
   },
   "outputs": [],
   "source": []
  }
 ],
 "metadata": {
  "kernelspec": {
   "display_name": "Python 2",
   "language": "python",
   "name": "python2"
  },
  "language_info": {
   "codemirror_mode": {
    "name": "ipython",
    "version": 2
   },
   "file_extension": ".py",
   "mimetype": "text/x-python",
   "name": "python",
   "nbconvert_exporter": "python",
   "pygments_lexer": "ipython2",
   "version": "2.7.13"
  }
 },
 "nbformat": 4,
 "nbformat_minor": 2
}
