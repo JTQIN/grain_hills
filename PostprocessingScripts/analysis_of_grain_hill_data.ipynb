{
 "cells": [
  {
   "cell_type": "markdown",
   "metadata": {},
   "source": [
    "Analysis of data from fault-scarp model runs.\n",
    "\n",
    "Start by setting up arrays to hold the data."
   ]
  },
  {
   "cell_type": "code",
   "execution_count": 5,
   "metadata": {
    "collapsed": true
   },
   "outputs": [],
   "source": [
    "import numpy as np\n",
    "\n",
    "N = 125\n",
    "run_number = np.zeros(N)\n",
    "hill_length = np.zeros(N)\n",
    "dist_rate = np.zeros(N)\n",
    "uplint = np.zeros(N)\n",
    "max_ht = np.zeros(N)\n",
    "mean_slope = np.zeros(N)\n",
    "mean_ht = np.zeros(N)"
   ]
  },
  {
   "cell_type": "markdown",
   "metadata": {},
   "source": [
    "Set up info on domain size and parameters."
   ]
  },
  {
   "cell_type": "code",
   "execution_count": 17,
   "metadata": {
    "collapsed": false
   },
   "outputs": [
    {
     "name": "stdout",
     "output_type": "stream",
     "text": [
      "[  58.   58.   58.   58.   58.   58.   58.   58.   58.   58.   58.   58.\n",
      "   58.   58.   58.   58.   58.   58.   58.   58.   58.   58.   58.   58.\n",
      "   58.  103.  103.  103.  103.  103.  103.  103.  103.  103.  103.  103.\n",
      "  103.  103.  103.  103.  103.  103.  103.  103.  103.  103.  103.  103.\n",
      "  103.  103.  183.  183.  183.  183.  183.  183.  183.  183.  183.  183.\n",
      "  183.  183.  183.  183.  183.  183.  183.  183.  183.  183.  183.  183.\n",
      "  183.  183.  183.  325.  325.  325.  325.  325.  325.  325.  325.  325.\n",
      "  325.  325.  325.  325.  325.  325.  325.  325.  325.  325.  325.  325.\n",
      "  325.  325.  325.  325.  579.  579.  579.  579.  579.  579.  579.  579.\n",
      "  579.  579.  579.  579.  579.  579.  579.  579.  579.  579.  579.  579.\n",
      "  579.  579.  579.  579.  579.]\n",
      "[ 0.001       0.00316228  0.01        0.03162278  0.1         0.001\n",
      "  0.00316228  0.01        0.03162278  0.1         0.001       0.00316228\n",
      "  0.01        0.03162278  0.1         0.001       0.00316228  0.01\n",
      "  0.03162278  0.1         0.001       0.00316228  0.01        0.03162278\n",
      "  0.1         0.001       0.00316228  0.01        0.03162278  0.1         0.001\n",
      "  0.00316228  0.01        0.03162278  0.1         0.001       0.00316228\n",
      "  0.01        0.03162278  0.1         0.001       0.00316228  0.01\n",
      "  0.03162278  0.1         0.001       0.00316228  0.01        0.03162278\n",
      "  0.1         0.001       0.00316228  0.01        0.03162278  0.1         0.001\n",
      "  0.00316228  0.01        0.03162278  0.1         0.001       0.00316228\n",
      "  0.01        0.03162278  0.1         0.001       0.00316228  0.01\n",
      "  0.03162278  0.1         0.001       0.00316228  0.01        0.03162278\n",
      "  0.1         0.001       0.00316228  0.01        0.03162278  0.1         0.001\n",
      "  0.00316228  0.01        0.03162278  0.1         0.001       0.00316228\n",
      "  0.01        0.03162278  0.1         0.001       0.00316228  0.01\n",
      "  0.03162278  0.1         0.001       0.00316228  0.01        0.03162278\n",
      "  0.1         0.001       0.00316228  0.01        0.03162278  0.1         0.001\n",
      "  0.00316228  0.01        0.03162278  0.1         0.001       0.00316228\n",
      "  0.01        0.03162278  0.1         0.001       0.00316228  0.01\n",
      "  0.03162278  0.1         0.001       0.00316228  0.01        0.03162278\n",
      "  0.1       ]\n",
      "[   100.            100.            100.            100.            100.\n",
      "    316.22776602    316.22776602    316.22776602    316.22776602\n",
      "    316.22776602   1000.           1000.           1000.           1000.\n",
      "   1000.           3162.27766017   3162.27766017   3162.27766017\n",
      "   3162.27766017   3162.27766017  10000.          10000.          10000.\n",
      "  10000.          10000.            100.            100.            100.\n",
      "    100.            100.            316.22776602    316.22776602\n",
      "    316.22776602    316.22776602    316.22776602   1000.           1000.\n",
      "   1000.           1000.           1000.           3162.27766017\n",
      "   3162.27766017   3162.27766017   3162.27766017   3162.27766017  10000.\n",
      "  10000.          10000.          10000.          10000.            100.\n",
      "    100.            100.            100.            100.            316.22776602\n",
      "    316.22776602    316.22776602    316.22776602    316.22776602   1000.\n",
      "   1000.           1000.           1000.           1000.           3162.27766017\n",
      "   3162.27766017   3162.27766017   3162.27766017   3162.27766017  10000.\n",
      "  10000.          10000.          10000.          10000.            100.\n",
      "    100.            100.            100.            100.            316.22776602\n",
      "    316.22776602    316.22776602    316.22776602    316.22776602   1000.\n",
      "   1000.           1000.           1000.           1000.           3162.27766017\n",
      "   3162.27766017   3162.27766017   3162.27766017   3162.27766017  10000.\n",
      "  10000.          10000.          10000.          10000.            100.\n",
      "    100.            100.            100.            100.            316.22776602\n",
      "    316.22776602    316.22776602    316.22776602    316.22776602   1000.\n",
      "   1000.           1000.           1000.           1000.           3162.27766017\n",
      "   3162.27766017   3162.27766017   3162.27766017   3162.27766017  10000.\n",
      "  10000.          10000.          10000.          10000.        ]\n"
     ]
    }
   ],
   "source": [
    "domain_lengths = np.array([58, 103, 183, 325, 579])\n",
    "disturbance_rates = 10.0 ** np.array([-3, -2.5, -2, -1.5, -1])\n",
    "uplift_intervals = 10.0 ** np.array([2, 2.5, 3, 3.5, 4])\n",
    "for i in range(N):\n",
    "    hill_length[i] = domain_lengths[i // 25]\n",
    "    dist_rate[i] = disturbance_rates[i % 5]\n",
    "    uplint[i] = uplift_intervals[(i // 5) % 5]\n",
    "print(hill_length)\n",
    "print(dist_rate)\n",
    "print(uplint)"
   ]
  },
  {
   "cell_type": "markdown",
   "metadata": {},
   "source": [
    "Read data from file."
   ]
  },
  {
   "cell_type": "code",
   "execution_count": 19,
   "metadata": {
    "collapsed": false
   },
   "outputs": [],
   "source": [
    "import csv\n",
    "\n",
    "i = -1\n",
    "with open('../ModelRuns/TransLim5x5x5paramStudy/param5x5results.csv', 'rb') as csvfile:\n",
    "    myreader = csv.reader(csvfile)\n",
    "    for row in myreader:\n",
    "        if i > -1:\n",
    "            run_number[i] = int(row[0])\n",
    "            max_ht[i] = float(row[1])\n",
    "            mean_ht[i] = float(row[2])\n",
    "            mean_slope[i] = float(row[3])\n",
    "        i += 1\n",
    "csvfile.close()"
   ]
  },
  {
   "cell_type": "markdown",
   "metadata": {},
   "source": [
    "So, how do we define the effective diffusivity? One method is to start with steady-state maximum hilltop height, $H$:\n",
    "\n",
    "$H = \\frac{U}{2D}L^2$\n",
    "\n",
    "Then simply invert this to solve for $D$:\n",
    "\n",
    "$D = \\frac{U}{2H}L^2$\n",
    "\n",
    "In the particle model, $H$ in real length units is equal to height in cells, $h$, times scale of a cell, $\\delta$. Similarly, $L = \\lambda \\delta$, and $U = \\delta / I_u$, where $I_u$ is uplift interval in cells/time. Substituting,\n",
    "\n",
    "$D = \\frac{1}{2I_u h} \\lambda^2 \\delta^2$\n",
    "\n",
    "So, we ought to be able to plot $D$ as a function of slope, etc."
   ]
  },
  {
   "cell_type": "markdown",
   "metadata": {},
   "source": [
    "Start with a plot of $D$ versus slope for given fixed values of everything but $I_u$."
   ]
  },
  {
   "cell_type": "code",
   "execution_count": 20,
   "metadata": {
    "collapsed": false
   },
   "outputs": [
    {
     "name": "stdout",
     "output_type": "stream",
     "text": [
      "1.5\n"
     ]
    }
   ],
   "source": [
    "halflen = hill_length / 2.0\n",
    "D = (halflen * halflen) / (2.0 * uplint * max_ht)\n",
    "print np.amin(max_ht)"
   ]
  },
  {
   "cell_type": "code",
   "execution_count": 21,
   "metadata": {
    "collapsed": true
   },
   "outputs": [],
   "source": [
    "import matplotlib.pyplot as plt\n",
    "%matplotlib inline"
   ]
  },
  {
   "cell_type": "code",
   "execution_count": 22,
   "metadata": {
    "collapsed": false
   },
   "outputs": [
    {
     "data": {
      "text/plain": [
       "[<matplotlib.lines.Line2D at 0x10cc9cb50>]"
      ]
     },
     "execution_count": 22,
     "metadata": {},
     "output_type": "execute_result"
    },
    {
     "data": {
      "image/png": "[encoded data removed]",
      "text/plain": [
       "<matplotlib.figure.Figure at 0x1098db750>"
      ]
     },
     "metadata": {},
     "output_type": "display_data"
    }
   ],
   "source": [
    "idx = np.arange(0, 25, 5)\n",
    "plt.semilogy(mean_slope[idx], D[idx], '.')\n",
    "\n",
    "idx = np.arange(25, 50, 5)\n",
    "plt.plot(mean_slope[idx], D[idx], '.')\n",
    "\n",
    "idx = np.arange(50, 75, 5)\n",
    "plt.plot(mean_slope[idx], D[idx], '.')\n",
    "\n",
    "idx = np.arange(75, 100, 5)\n",
    "plt.plot(mean_slope[idx], D[idx], '.')\n",
    "\n",
    "idx = np.arange(100, 125, 5)\n",
    "plt.plot(mean_slope[idx], D[idx], '.')\n",
    "\n"
   ]
  },
  {
   "cell_type": "code",
   "execution_count": 23,
   "metadata": {
    "collapsed": false
   },
   "outputs": [
    {
     "data": {
      "text/plain": [
       "[<matplotlib.lines.Line2D at 0x10cceced0>]"
      ]
     },
     "execution_count": 23,
     "metadata": {},
     "output_type": "execute_result"
    },
    {
     "data": {
      "image/png": "[encoded data removed]",
      "text/plain": [
       "<matplotlib.figure.Figure at 0x1098b4350>"
      ]
     },
     "metadata": {},
     "output_type": "display_data"
    }
   ],
   "source": [
    "idx = np.arange(25, 50, 5)\n",
    "plt.plot(mean_slope[idx], D[idx], '.')\n",
    "\n",
    "idx = np.arange(100, 125, 5)\n",
    "plt.plot(mean_slope[idx], D[idx], '.')"
   ]
  },
  {
   "cell_type": "markdown",
   "metadata": {},
   "source": [
    "Is there something we could do with integrated elevation? To reduce noise... \n",
    "\n",
    "$\\int_0^L z(x) dx = A = \\int_0^L \\frac{U}{2D}(L^2 - x^2) dx$\n",
    "\n",
    "$A= \\frac{U}{2D}L^3 - \\frac{U}{6D}L^3$\n",
    "\n",
    "$A= \\frac{U}{3D}L^3$\n",
    "\n",
    "$A/L = H_{mean} = \\frac{U}{3D}L^2$\n",
    "\n",
    "Rearranging,\n",
    "\n",
    "$D = \\frac{U}{3H_{mean}}L^2$\n",
    "\n",
    "$D/\\delta^2 = \\frac{1}{3 I_u h_{mean}} \\lambda^2$\n",
    "\n",
    "This might be more stable, since it measures area (a cumulative metric)."
   ]
  },
  {
   "cell_type": "markdown",
   "metadata": {
    "collapsed": true
   },
   "source": [
    "First, a little nondimensionalization. We have an outcome, mean height, $h_m$, that is a function of three inputs: disturbance rate, $d$, system length $\\lambda$, and uplift interval, $I_u$. If we treat cells as a kind of dimension, our dimensions are: C, C/T, C, T/C. This implies two dimensionless parameters:\n",
    "\n",
    "$h_m / \\lambda = f( d I_u )$\n",
    "\n",
    "So let's calculate these quantities:"
   ]
  },
  {
   "cell_type": "code",
   "execution_count": 24,
   "metadata": {
    "collapsed": true
   },
   "outputs": [],
   "source": [
    "hmp = mean_ht / hill_length\n",
    "di = dist_rate * uplint"
   ]
  },
  {
   "cell_type": "code",
   "execution_count": 25,
   "metadata": {
    "collapsed": false
   },
   "outputs": [
    {
     "data": {
      "text/plain": [
       "[<matplotlib.lines.Line2D at 0x10d294b10>]"
      ]
     },
     "execution_count": 25,
     "metadata": {},
     "output_type": "execute_result"
    },
    {
     "data": {
      "image/png": "[encoded data removed]",
      "text/plain": [
       "<matplotlib.figure.Figure at 0x10431d990>"
      ]
     },
     "metadata": {},
     "output_type": "display_data"
    }
   ],
   "source": [
    "plt.plot(di, hmp, '.')"
   ]
  },
  {
   "cell_type": "code",
   "execution_count": 26,
   "metadata": {
    "collapsed": false
   },
   "outputs": [
    {
     "data": {
      "text/plain": [
       "[<matplotlib.lines.Line2D at 0x10d2fd110>]"
      ]
     },
     "execution_count": 26,
     "metadata": {},
     "output_type": "execute_result"
    },
    {
     "data": {
      "image/png": "[encoded data removed]",
      "text/plain": [
       "<matplotlib.figure.Figure at 0x1098ee5d0>"
      ]
     },
     "metadata": {},
     "output_type": "display_data"
    }
   ],
   "source": [
    "plt.loglog(di, hmp, '.')"
   ]
  },
  {
   "cell_type": "markdown",
   "metadata": {},
   "source": [
    "I guess that's kind of a collapse? Need to split apart by different parameters. But first, let's try the idea of an effective diffusion coefficient:"
   ]
  },
  {
   "cell_type": "code",
   "execution_count": 27,
   "metadata": {
    "collapsed": false
   },
   "outputs": [
    {
     "data": {
      "text/plain": [
       "[<matplotlib.lines.Line2D at 0x10d682d10>]"
      ]
     },
     "execution_count": 27,
     "metadata": {},
     "output_type": "execute_result"
    },
    {
     "data": {
      "image/png": "[encoded data removed]",
      "text/plain": [
       "<matplotlib.figure.Figure at 0x10d607e90>"
      ]
     },
     "metadata": {},
     "output_type": "display_data"
    }
   ],
   "source": [
    "dd = (1.0 / (uplint * mean_ht)) * halflen * halflen\n",
    "plt.plot(mean_slope, dd, '.')"
   ]
  },
  {
   "cell_type": "markdown",
   "metadata": {},
   "source": [
    "Ok, kind of a mess. Let's try holding everything but uplift interval constant."
   ]
  },
  {
   "cell_type": "code",
   "execution_count": 28,
   "metadata": {
    "collapsed": false,
    "scrolled": true
   },
   "outputs": [
    {
     "data": {
      "text/plain": [
       "<matplotlib.legend.Legend at 0x10d3a2490>"
      ]
     },
     "execution_count": 28,
     "metadata": {},
     "output_type": "execute_result"
    },
    {
     "data": {
      "image/png": "[encoded data removed]",
      "text/plain": [
       "<matplotlib.figure.Figure at 0x10d3a27d0>"
      ]
     },
     "metadata": {},
     "output_type": "display_data"
    }
   ],
   "source": [
    "var_uplint = np.arange(0, 25, 5)\n",
    "for i in range(5):\n",
    "    idx = (i * 25) + var_uplint\n",
    "    plt.plot(mean_slope[idx], dd[idx], '.')\n",
    "plt.xlabel('Mean slope gradient')\n",
    "plt.ylabel('Effective diffusivity')\n",
    "plt.legend(['L = 58', 'L = 103', 'L = 183', 'L = 325', 'L = 579'])"
   ]
  },
  {
   "cell_type": "code",
   "execution_count": 29,
   "metadata": {
    "collapsed": false
   },
   "outputs": [
    {
     "data": {
      "text/plain": [
       "<matplotlib.legend.Legend at 0x10d84c410>"
      ]
     },
     "execution_count": 29,
     "metadata": {},
     "output_type": "execute_result"
    },
    {
     "data": {
      "image/png": "[encoded data removed]",
      "text/plain": [
       "<matplotlib.figure.Figure at 0x10d84c750>"
      ]
     },
     "metadata": {},
     "output_type": "display_data"
    }
   ],
   "source": [
    "var_uplint = np.arange(0, 25, 5) + 1\n",
    "for i in range(5):\n",
    "    idx = (i * 25) + var_uplint\n",
    "    plt.plot(mean_slope[idx], dd[idx], '.')\n",
    "plt.xlabel('Mean slope gradient')\n",
    "plt.ylabel('Effective diffusivity')\n",
    "plt.legend(['L = 58', 'L = 103', 'L = 183', 'L = 325', 'L = 579'])"
   ]
  },
  {
   "cell_type": "code",
   "execution_count": 30,
   "metadata": {
    "collapsed": false
   },
   "outputs": [
    {
     "data": {
      "text/plain": [
       "<matplotlib.legend.Legend at 0x10da60110>"
      ]
     },
     "execution_count": 30,
     "metadata": {},
     "output_type": "execute_result"
    },
    {
     "data": {
      "image/png": "[encoded data removed]",
      "text/plain": [
       "<matplotlib.figure.Figure at 0x10da60490>"
      ]
     },
     "metadata": {},
     "output_type": "display_data"
    }
   ],
   "source": [
    "var_uplint = np.arange(0, 25, 5) + 2\n",
    "for i in range(5):\n",
    "    idx = (i * 25) + var_uplint\n",
    "    plt.plot(mean_slope[idx], dd[idx], '.')\n",
    "plt.xlabel('Mean slope gradient')\n",
    "plt.ylabel('Effective diffusivity')\n",
    "plt.legend(['L = 58', 'L = 103', 'L = 183', 'L = 325', 'L = 579'])"
   ]
  },
  {
   "cell_type": "code",
   "execution_count": 31,
   "metadata": {
    "collapsed": false
   },
   "outputs": [
    {
     "data": {
      "text/plain": [
       "<matplotlib.legend.Legend at 0x10db77250>"
      ]
     },
     "execution_count": 31,
     "metadata": {},
     "output_type": "execute_result"
    },
    {
     "data": {
      "image/png": "[encoded data removed]",
      "text/plain": [
       "<matplotlib.figure.Figure at 0x10db77650>"
      ]
     },
     "metadata": {},
     "output_type": "display_data"
    }
   ],
   "source": [
    "var_uplint = np.arange(0, 25, 5) + 3\n",
    "for i in range(5):\n",
    "    idx = (i * 25) + var_uplint\n",
    "    plt.plot(mean_slope[idx], dd[idx], '.')\n",
    "plt.xlabel('Mean slope gradient')\n",
    "plt.ylabel('Effective diffusivity')\n",
    "plt.legend(['L = 58', 'L = 103', 'L = 183', 'L = 325', 'L = 579'])"
   ]
  },
  {
   "cell_type": "code",
   "execution_count": 32,
   "metadata": {
    "collapsed": false
   },
   "outputs": [
    {
     "data": {
      "text/plain": [
       "<matplotlib.legend.Legend at 0x10d902490>"
      ]
     },
     "execution_count": 32,
     "metadata": {},
     "output_type": "execute_result"
    },
    {
     "data": {
      "image/png": "[encoded data removed]",
      "text/plain": [
       "<matplotlib.figure.Figure at 0x10daac4d0>"
      ]
     },
     "metadata": {},
     "output_type": "display_data"
    }
   ],
   "source": [
    "var_uplint = np.arange(0, 25, 5) + 4\n",
    "for i in range(5):\n",
    "    idx = (i * 25) + var_uplint\n",
    "    plt.plot(mean_slope[idx], dd[idx], '.')\n",
    "plt.xlabel('Mean slope gradient')\n",
    "plt.ylabel('Effective diffusivity')\n",
    "plt.legend(['L = 58', 'L = 103', 'L = 183', 'L = 325', 'L = 579'])"
   ]
  },
  {
   "cell_type": "code",
   "execution_count": 33,
   "metadata": {
    "collapsed": false,
    "scrolled": false
   },
   "outputs": [
    {
     "data": {
      "text/plain": [
       "<matplotlib.legend.Legend at 0x10deb1750>"
      ]
     },
     "execution_count": 33,
     "metadata": {},
     "output_type": "execute_result"
    },
    {
     "data": {
      "image/png": "[encoded data removed]",
      "text/plain": [
       "<matplotlib.figure.Figure at 0x10deb1dd0>"
      ]
     },
     "metadata": {},
     "output_type": "display_data"
    }
   ],
   "source": [
    "for i in range(5):\n",
    "    idx = np.arange(5) + 100 + 5 * i\n",
    "    plt.loglog(di[idx], hmp[idx], '.')\n",
    "plt.xlabel('d I_u')\n",
    "plt.ylabel('H_m / L')\n",
    "plt.grid('on')\n",
    "plt.legend(['I_u = 100', 'I_u = 316', 'I_u = 1000', 'I_u = 3163', 'I_u = 10,000'])"
   ]
  },
  {
   "cell_type": "code",
   "execution_count": 34,
   "metadata": {
    "collapsed": false
   },
   "outputs": [
    {
     "data": {
      "text/plain": [
       "<matplotlib.legend.Legend at 0x10dd172d0>"
      ]
     },
     "execution_count": 34,
     "metadata": {},
     "output_type": "execute_result"
    },
    {
     "data": {
      "image/png": "[encoded data removed]",
      "text/plain": [
       "<matplotlib.figure.Figure at 0x10dd17290>"
      ]
     },
     "metadata": {},
     "output_type": "display_data"
    }
   ],
   "source": [
    "hmp2 = (mean_ht + 0.5) / hill_length\n",
    "for i in range(5):\n",
    "    idx = np.arange(5) + 0 + 5 * i\n",
    "    plt.loglog(di[idx], hmp2[idx], '.')\n",
    "plt.xlabel('d I_u')\n",
    "plt.ylabel('H_m / L')\n",
    "plt.grid('on')\n",
    "plt.legend(['I_u = 100', 'I_u = 316', 'I_u = 1000', 'I_u = 3163', 'I_u = 10,000'])"
   ]
  },
  {
   "cell_type": "markdown",
   "metadata": {},
   "source": [
    "They don't seem to segregate much by $I_u$. I suspect they segregate by $L$. So let's plot ALL the data, colored by $L$:"
   ]
  },
  {
   "cell_type": "code",
   "execution_count": 35,
   "metadata": {
    "collapsed": false
   },
   "outputs": [
    {
     "data": {
      "text/plain": [
       "<matplotlib.legend.Legend at 0x10e2c0310>"
      ]
     },
     "execution_count": 35,
     "metadata": {},
     "output_type": "execute_result"
    },
    {
     "data": {
      "image/png": "[encoded data removed]",
      "text/plain": [
       "<matplotlib.figure.Figure at 0x10dddad10>"
      ]
     },
     "metadata": {},
     "output_type": "display_data"
    }
   ],
   "source": [
    "for i in range(5):\n",
    "    idx = i * 25 + np.arange(25)\n",
    "    plt.loglog(di[idx], hmp2[idx], '.')\n",
    "plt.xlabel('d I_u')\n",
    "plt.ylabel('H_m / L')\n",
    "plt.grid('on')\n",
    "plt.legend(['L = 58', 'L = 103', 'L = 183', 'L = 325', 'L = 579'])"
   ]
  },
  {
   "cell_type": "markdown",
   "metadata": {},
   "source": [
    "The above plot makes sense actually. Consider the end members:\n",
    "\n",
    "At low $d I_u$, you have angle-of-repose:\n",
    "\n",
    "$H_m = \\tan (30^\\circ) L/4$ (I think)\n",
    "\n",
    "or\n",
    "\n",
    "$H_m / L \\approx 0.15$\n",
    "\n",
    "At high $d I_u$, we have the diffusive case:\n",
    "\n",
    "$H_m = \\frac{U}{3D} L^2$, or\n",
    "\n",
    "$H_m / L = \\frac{U}{3D} L$\n",
    "\n",
    "But wait a minute, that's backwards from what the plot shows. Could this be a finite-size effect? Let's suppose that finite-size effects mean that there's a minimum $H_m$ equal to $N$ times the size of one particle. Then,\n",
    "\n",
    "$H_m / L = N / L$\n",
    "\n",
    "which has the right direction. What would $N$ actually be? From reading the graph above, estimate that (using $L$ as half-length, so half of the above numbers in legend):\n",
    "\n",
    "For $L=29$, $N/L \\approx 0.02$\n",
    "\n",
    "For $L=51.5$, $N/L \\approx 0.015$\n",
    "\n",
    "For $L=91.5$, $N/L \\approx 0.009$\n",
    "\n",
    "For $L=162.5$, $N/L \\approx 0.0055$\n",
    "\n",
    "For $L=289.5$, $N/L \\approx 0.004$"
   ]
  },
  {
   "cell_type": "code",
   "execution_count": 36,
   "metadata": {
    "collapsed": false
   },
   "outputs": [
    {
     "data": {
      "text/plain": [
       "array([ 0.58   ,  0.7725 ,  0.8235 ,  0.89375,  1.158  ])"
      ]
     },
     "execution_count": 36,
     "metadata": {},
     "output_type": "execute_result"
    }
   ],
   "source": [
    "nl = np.array([0.02, 0.015, 0.009, 0.0055, 0.004])\n",
    "l = np.array([29, 51.5, 91.5, 162.5, 289.5])\n",
    "n = nl * l\n",
    "n"
   ]
  },
  {
   "cell_type": "code",
   "execution_count": 37,
   "metadata": {
    "collapsed": false
   },
   "outputs": [
    {
     "data": {
      "text/plain": [
       "array([ 0.03448276,  0.01941748,  0.01092896,  0.00615385,  0.00345423])"
      ]
     },
     "execution_count": 37,
     "metadata": {},
     "output_type": "execute_result"
    }
   ],
   "source": [
    "1.0 / l"
   ]
  },
  {
   "cell_type": "markdown",
   "metadata": {},
   "source": [
    "Ok, so these are all hovering around 1 cell! So, that could well explain the scatter at the right side.\n",
    "\n",
    "This is starting to make more sense. The narrow window around $d I_u \\approx 10$ represents the diffusive regime. To the left, the angle-of-repose regime. To the right, the finite-size-effect regime. For good reasons, the diffusive regime is biggest with the biggest $L$ (more particles, so finite-size effect doesn't show up until larger $d I_u$). Within the diffusive regime, points separate according to scale, reflecting the $H_m / L \\propto L$ effect. So, if we took points with varying $L$ but identical $d I_u$, ..."
   ]
  },
  {
   "cell_type": "code",
   "execution_count": 38,
   "metadata": {
    "collapsed": false
   },
   "outputs": [
    {
     "data": {
      "text/plain": [
       "[<matplotlib.lines.Line2D at 0x10e95d6d0>]"
      ]
     },
     "execution_count": 38,
     "metadata": {},
     "output_type": "execute_result"
    },
    {
     "data": {
      "image/png": "[encoded data removed]",
      "text/plain": [
       "<matplotlib.figure.Figure at 0x10e95d1d0>"
      ]
     },
     "metadata": {},
     "output_type": "display_data"
    }
   ],
   "source": [
    "idx = np.where(np.logical_and(di>9.0, di<11.0))[0]\n",
    "hmd = mean_ht[idx]\n",
    "ld = hill_length[idx]\n",
    "plt.plot(ld, hmd/ld, '.')\n",
    "idx2 = np.where(np.logical_and(di>0.9, di<1.1))[0]\n",
    "plt.plot(hill_length[idx2], mean_ht[idx2]/hill_length[idx2], 'o')\n",
    "plt.grid('on')\n",
    "plt.xlabel('L')\n",
    "plt.ylabel('Hm/L')\n",
    "plt.plot([0, 600.0], [0.5774/4.0, 0.5774/4.0])\n",
    "plt.plot([0.0, 600.0], [0.0, 0.02 * 0.1/3.0 * 600.0])"
   ]
  },
  {
   "cell_type": "markdown",
   "metadata": {},
   "source": [
    "In the above plot, diffusive behavior is indicated by a slope of 1:1, whereas angle-of-repose is indicated by a flat trend. One thing this says is that, for a given $d I_u$, a longer slope is more likely to be influenced by the angle of repose. That makes sense I think...? "
   ]
  },
  {
   "cell_type": "code",
   "execution_count": 39,
   "metadata": {
    "collapsed": false
   },
   "outputs": [
    {
     "data": {
      "image/png": "[encoded data removed]",
      "text/plain": [
       "<matplotlib.figure.Figure at 0x10deb1f10>"
      ]
     },
     "metadata": {},
     "output_type": "display_data"
    }
   ],
   "source": [
    "plt.loglog(ld, hmd, '*')\n",
    "plt.grid('on')"
   ]
  },
  {
   "cell_type": "markdown",
   "metadata": {
    "collapsed": true
   },
   "source": [
    "Now, what if it's better to consider disturbance rate, $d$, to be in square cells / time? That is, when dimensionalized, to be $L^2/T$ rather than $L/T$? Let's see what happens when we do it this way:"
   ]
  },
  {
   "cell_type": "code",
   "execution_count": 40,
   "metadata": {
    "collapsed": false
   },
   "outputs": [],
   "source": [
    "d2 = dist_rate * uplint / hill_length"
   ]
  },
  {
   "cell_type": "code",
   "execution_count": 41,
   "metadata": {
    "collapsed": false
   },
   "outputs": [
    {
     "data": {
      "text/plain": [
       "[<matplotlib.lines.Line2D at 0x10ebc6c50>]"
      ]
     },
     "execution_count": 41,
     "metadata": {},
     "output_type": "execute_result"
    },
    {
     "data": {
      "image/png": "[encoded data removed]",
      "text/plain": [
       "<matplotlib.figure.Figure at 0x10deb1ed0>"
      ]
     },
     "metadata": {},
     "output_type": "display_data"
    }
   ],
   "source": [
    "plt.loglog(hmp, d2, '.')"
   ]
  },
  {
   "cell_type": "markdown",
   "metadata": {
    "collapsed": true
   },
   "source": [
    "Not so great ...\n",
    "\n"
   ]
  },
  {
   "cell_type": "markdown",
   "metadata": {},
   "source": [
    "Let's try another idea, based again on dimensional analysis. Start with dimensional quantities $U$ (uplift rate), $L$ (length), $H$ (mean height), and $\\delta$ (cell size). Nondimensionalize in a somewhat surprising way:\n",
    "\n",
    "$\\frac{UL^2}{Hd\\delta^2} = f( d\\delta / U, L/\\delta )$\n",
    "\n",
    "This is actually a dimensionless diffusivity: diffusivity relative to disturbance intensity.\n",
    "\n",
    "Now translate back: $H=h\\delta$, $U=\\delta / I_u$, and $L=\\lambda \\delta$:\n",
    "\n",
    "$\\frac{\\lambda^2}{hdI_u} = f( d I_u, \\lambda )$\n",
    "\n",
    "So what happens if we plot thus?"
   ]
  },
  {
   "cell_type": "code",
   "execution_count": 42,
   "metadata": {
    "collapsed": false
   },
   "outputs": [
    {
     "data": {
      "text/plain": [
       "<matplotlib.legend.Legend at 0x10ef84b50>"
      ]
     },
     "execution_count": 42,
     "metadata": {},
     "output_type": "execute_result"
    },
    {
     "data": {
      "image/png": "[encoded data removed]",
      "text/plain": [
       "<matplotlib.figure.Figure at 0x10ef84610>"
      ]
     },
     "metadata": {},
     "output_type": "display_data"
    }
   ],
   "source": [
    "diff_nd = halflen * halflen / (uplint * mean_ht * dist_rate)\n",
    "diu = dist_rate * uplint\n",
    "for i in range(5):\n",
    "    idx = (i * 25) + np.arange(25)\n",
    "    plt.loglog(diu[idx], diff_nd[idx], '+')\n",
    "plt.grid('on')\n",
    "plt.xlabel('Dimensionless disturbance rate (d I_u)')\n",
    "plt.ylabel('Dimensionless diffusivity (l^2/hdI_u)')\n",
    "plt.legend(['\\lambda= 58', '\\lambda = 103', '\\lambda = 183', '\\lambda = 325', '\\lambda = 579'])"
   ]
  },
  {
   "cell_type": "markdown",
   "metadata": {},
   "source": [
    "Now THAT'S a collapse. Good. Interpretation: as we go left to right, we go from faster uplift or lower disturbance to slower uplift or faster disturbance. That means the relief goes from high to low. At high relief, we get angle-of-repose behavior, for which the effective diffusivity increases with relief---hence, diffusivity decreases with increasing $dI_u$. Then we get to a realm that is presumably the diffusive regime, where the curve flattens out. This represents a constant diffusivity. Finally, we get to the far right side, where you hit finite-size effects: there will be a hill at least one particle high on average no matter how high $d I_u$, so diffusivity appears to drop again.\n",
    "\n",
    "There's a one-to-one relation between $D'$ and $\\lambda$, at least in the steep regime. This reflects simple scaling. In the steep regime, $H = S_c L / 4$. By definition $D' = (U / 3H\\delta^2 d) L^2$, or $H = (U / 3D'\\delta^2 d) L^2$. Substituting,\n",
    "\n",
    "$(U / 3D'\\delta^2 d) L^2 = S_c L / 4$\n",
    "\n",
    "$D' = 4 U L / 3 \\delta^2 d S_c$\n",
    "\n",
    "in other words, we expect $D' \\propto L$ in this regime. (If we translate back, this writes as\n",
    "\n",
    "$D' = 4 \\lambda / 3 I_u d S_c$\n",
    "\n",
    "Voila!\n",
    "\n",
    "Ok, but why does the scaling between $D'$ and $\\lambda$ continue in the diffusive regime? My guess is as follows. To relate disturbance rate, $d$, to diffusivity, $D$, consider that disturbance acts over depth $\\delta$ and length $L$. Therefore, one might scale diffusivity as follows:\n",
    "\n",
    "$D \\propto dL\\delta \\propto d \\lambda$\n",
    "\n",
    "By that argument, $D$ should be proportional to $\\lambda$. Another way to say this is that in order to preserve constant $D$, $d$ should be treated as a scale-dependent parameter: $d \\propto D/\\lambda$.\n"
   ]
  },
  {
   "cell_type": "markdown",
   "metadata": {},
   "source": [
    "A further thought: can we define diffusivity more carefully? One approach would be\n",
    "\n",
    "(frequency of disturbance events per unit time per unit length, $F$) [1/LT]\n",
    "\n",
    "x\n",
    "\n",
    "(cross-sectional area disturbed, $A$)\n",
    "\n",
    "x\n",
    "\n",
    "(characteristic displacement length,$\\Lambda$)\n",
    "\n",
    "For the first, take the expected number of events across the whole in unit time and divide by the length of the slope:\n",
    "\n",
    "$F = \\lambda d / L = ...$\n",
    "\n",
    "hmm, this isn't going where I thought...\n"
   ]
  },
  {
   "cell_type": "code",
   "execution_count": null,
   "metadata": {
    "collapsed": true
   },
   "outputs": [],
   "source": []
  }
 ],
 "metadata": {
  "kernelspec": {
   "display_name": "Python [conda root]",
   "language": "python",
   "name": "conda-root-py"
  },
  "language_info": {
   "codemirror_mode": {
    "name": "ipython",
    "version": 2
   },
   "file_extension": ".py",
   "mimetype": "text/x-python",
   "name": "python",
   "nbconvert_exporter": "python",
   "pygments_lexer": "ipython2",
   "version": "2.7.13"
  }
 },
 "nbformat": 4,
 "nbformat_minor": 2
}
