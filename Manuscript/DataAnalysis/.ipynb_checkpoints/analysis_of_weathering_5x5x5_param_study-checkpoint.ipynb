{
 "cells": [
  {
   "cell_type": "markdown",
   "metadata": {},
   "source": [
    "This notebook contains analysis and plot generation of the series of 125 parameter-study runs in which weathering is switched on, and the uplifted material is rock.\n",
    "\n",
    "Start by reading data from csv file."
   ]
  },
  {
   "cell_type": "code",
   "execution_count": 8,
   "metadata": {
    "collapsed": true
   },
   "outputs": [],
   "source": [
    "import csv\n",
    "import numpy as np\n",
    "\n",
    "\n",
    "N = 125  # number of runs\n",
    "\n",
    "# Create arrays\n",
    "run_number = np.zeros(N, dtype=int)\n",
    "dprime = np.zeros(N)\n",
    "wprime = np.zeros(N)\n",
    "w = np.zeros(N)\n",
    "tau = np.zeros(N)\n",
    "d = np.zeros(N)\n",
    "max_ht = np.zeros(N)\n",
    "mean_ht = np.zeros(N)\n",
    "mean_slope = np.zeros(N)\n",
    "mean_soil = np.zeros(N)\n",
    "frac_cover = np.zeros(N)\n",
    "\n",
    "i = -1\n",
    "with open('grain_hill_wxing_results.csv', 'rb') as csvfile:\n",
    "    myreader = csv.reader(csvfile)\n",
    "    for row in myreader:\n",
    "        if i > -1:\n",
    "            run_number[i] = int(row[0])\n",
    "            dprime[i] = float(row[1])\n",
    "            wprime[i] = float(row[2])\n",
    "            w[i] = float(row[3])\n",
    "            tau[i] = float(row[4])\n",
    "            d[i] = float(row[5])\n",
    "            max_ht[i] = float(row[6])\n",
    "            mean_ht[i] = float(row[7])\n",
    "            mean_slope[i] = float(row[8])\n",
    "            mean_soil[i] = float(row[9])\n",
    "            frac_cover[i] = float(row[10])\n",
    "        i += 1\n",
    "csvfile.close()"
   ]
  },
  {
   "cell_type": "code",
   "execution_count": 20,
   "metadata": {},
   "outputs": [],
   "source": [
    "# Define discrete values for d', w'\n",
    "dpvals = np.array([0.1, 1.0, 10.0, 100.0, 1000.0])\n",
    "wpvals = np.array([0.4, 1.265, 4.0, 12.649, 40.0])"
   ]
  },
  {
   "cell_type": "code",
   "execution_count": 37,
   "metadata": {
    "collapsed": true
   },
   "outputs": [],
   "source": [
    "import matplotlib.pyplot as plt\n",
    "%matplotlib inline\n",
    "\n",
    "psyms = ['k.', 'k+', 'k^', 'k*', 'ko']"
   ]
  },
  {
   "cell_type": "code",
   "execution_count": 40,
   "metadata": {},
   "outputs": [
    {
     "data": {
      "image/png": "[encoded data removed]",
      "text/plain": [
       "<matplotlib.figure.Figure at 0x113bfbd50>"
      ]
     },
     "metadata": {},
     "output_type": "display_data"
    }
   ],
   "source": [
    "# Plot 1: mean height as function of d', grouped by w'\n",
    "rounded_wp = np.round(wprime, 3)\n",
    "symnum = 0\n",
    "for wp in wpvals:\n",
    "    pts = np.where(rounded_wp == wp)[0]\n",
    "    plt.loglog(dprime[pts], mean_ht[pts], psyms[symnum])\n",
    "    symnum += 1\n",
    "plt.xlabel('Dimensionless disturbance rate', {'fontsize' : 12})\n",
    "plt.ylabel('Mean height', {'fontsize' : 12})\n",
    "plt.legend([\"w' = 0.4\", \"w' = 1.265\", \"w' = 4\", \"w' = 12.65\", \"w' = 40\"])\n",
    "plt.ylim([1, 100])\n",
    "plt.savefig('wx_mean_ht_vs_dist_rate.pdf')"
   ]
  },
  {
   "cell_type": "code",
   "execution_count": null,
   "metadata": {
    "collapsed": true
   },
   "outputs": [],
   "source": []
  }
 ],
 "metadata": {
  "kernelspec": {
   "display_name": "Python [conda root]",
   "language": "python",
   "name": "conda-root-py"
  },
  "language_info": {
   "codemirror_mode": {
    "name": "ipython",
    "version": 2
   },
   "file_extension": ".py",
   "mimetype": "text/x-python",
   "name": "python",
   "nbconvert_exporter": "python",
   "pygments_lexer": "ipython2",
   "version": "2.7.13"
  }
 },
 "nbformat": 4,
 "nbformat_minor": 2
}
